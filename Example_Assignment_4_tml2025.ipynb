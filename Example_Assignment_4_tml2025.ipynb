{
  "nbformat": 4,
  "nbformat_minor": 0,
  "metadata": {
    "colab": {
      "provenance": []
    },
    "kernelspec": {
      "name": "python3",
      "display_name": "Python 3"
    },
    "language_info": {
      "name": "python"
    }
  },
  "cells": [
    {
      "cell_type": "code",
      "execution_count": 5,
      "metadata": {
        "id": "GtCpq7VRnKe3"
      },
      "outputs": [],
      "source": [
        "import pickle\n",
        "import requests\n",
        "\n",
        "#List containing names of the images to create the dictionary\n",
        "key_names = ['West_Highland_white_terrier', 'American_coot', 'racer', 'flamingo', 'kite', 'goldfish', 'tiger_shark', 'vulture', 'common_iguana', 'orange']\n",
        "\n",
        "#Parameters\n",
        "params = {\n",
        "    \"labels\": (1,),\n",
        "    \"hide_color\": None,\n",
        "    \"top_labels\": 5,\n",
        "    \"num_features\": 100000,\n",
        "    \"num_samples\": 1000,\n",
        "    \"batch_size\": 10,\n",
        "    \"segmentation_fn\": None,\n",
        "    \"distance_metric\": \"cosine\",\n",
        "    \"model_regressor\": None,\n",
        "    \"random_seed\": None\n",
        "}\n",
        "\n",
        "#Here the dummy code assigns same parameters to each key/image but you need to put your own parameters for each image\n",
        "all_params = {}\n",
        "for i in key_names:\n",
        "    all_params[i] = params\n",
        "\n",
        "#Saving the pickle file\n",
        "with open(\"/content/explain_params.pkl\", \"wb\") as f:\n",
        "    pickle.dump(all_params, f)\n"
      ]
    },
    {
      "cell_type": "code",
      "source": [
        "#Submission, remember to add your token number!\n",
        "response = requests.post(\"http://34.122.51.94:9091/lime\", files={\"file\": open(\"/content/explain_params.pkl\", \"rb\")}, headers={\"token\": \"\"})\n",
        "print(response.json())"
      ],
      "metadata": {
        "id": "0jbDFOKupHUf"
      },
      "execution_count": null,
      "outputs": []
    },
    {
      "cell_type": "markdown",
      "source": [
        "To check, this is how your pickle file content should look like:"
      ],
      "metadata": {
        "id": "gCRwiWa7Vetw"
      }
    },
    {
      "cell_type": "code",
      "source": [
        "with open(\"/content/explain_params.pkl\", \"rb\") as f:\n",
        "    loaded_all_params = pickle.load(f)\n",
        "\n",
        "print(loaded_all_params)"
      ],
      "metadata": {
        "colab": {
          "base_uri": "https://localhost:8080/"
        },
        "id": "McfA0sOsV7ed",
        "outputId": "22ce0a3a-0e90-4ced-861a-68735a33adff"
      },
      "execution_count": 7,
      "outputs": [
        {
          "output_type": "stream",
          "name": "stdout",
          "text": [
            "{'West_Highland_white_terrier': {'labels': (1,), 'hide_color': None, 'top_labels': 5, 'num_features': 100000, 'num_samples': 1000, 'batch_size': 10, 'segmentation_fn': None, 'distance_metric': 'cosine', 'model_regressor': None, 'random_seed': None}, 'American_coot': {'labels': (1,), 'hide_color': None, 'top_labels': 5, 'num_features': 100000, 'num_samples': 1000, 'batch_size': 10, 'segmentation_fn': None, 'distance_metric': 'cosine', 'model_regressor': None, 'random_seed': None}, 'racer': {'labels': (1,), 'hide_color': None, 'top_labels': 5, 'num_features': 100000, 'num_samples': 1000, 'batch_size': 10, 'segmentation_fn': None, 'distance_metric': 'cosine', 'model_regressor': None, 'random_seed': None}, 'flamingo': {'labels': (1,), 'hide_color': None, 'top_labels': 5, 'num_features': 100000, 'num_samples': 1000, 'batch_size': 10, 'segmentation_fn': None, 'distance_metric': 'cosine', 'model_regressor': None, 'random_seed': None}, 'kite': {'labels': (1,), 'hide_color': None, 'top_labels': 5, 'num_features': 100000, 'num_samples': 1000, 'batch_size': 10, 'segmentation_fn': None, 'distance_metric': 'cosine', 'model_regressor': None, 'random_seed': None}, 'goldfish': {'labels': (1,), 'hide_color': None, 'top_labels': 5, 'num_features': 100000, 'num_samples': 1000, 'batch_size': 10, 'segmentation_fn': None, 'distance_metric': 'cosine', 'model_regressor': None, 'random_seed': None}, 'tiger_shark': {'labels': (1,), 'hide_color': None, 'top_labels': 5, 'num_features': 100000, 'num_samples': 1000, 'batch_size': 10, 'segmentation_fn': None, 'distance_metric': 'cosine', 'model_regressor': None, 'random_seed': None}, 'vulture': {'labels': (1,), 'hide_color': None, 'top_labels': 5, 'num_features': 100000, 'num_samples': 1000, 'batch_size': 10, 'segmentation_fn': None, 'distance_metric': 'cosine', 'model_regressor': None, 'random_seed': None}, 'common_iguana': {'labels': (1,), 'hide_color': None, 'top_labels': 5, 'num_features': 100000, 'num_samples': 1000, 'batch_size': 10, 'segmentation_fn': None, 'distance_metric': 'cosine', 'model_regressor': None, 'random_seed': None}, 'orange': {'labels': (1,), 'hide_color': None, 'top_labels': 5, 'num_features': 100000, 'num_samples': 1000, 'batch_size': 10, 'segmentation_fn': None, 'distance_metric': 'cosine', 'model_regressor': None, 'random_seed': None}}\n"
          ]
        }
      ]
    }
  ]
}